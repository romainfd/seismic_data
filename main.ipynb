{
 "cells": [
  {
   "cell_type": "code",
   "execution_count": 58,
   "metadata": {},
   "outputs": [],
   "source": [
    "import numpy as np"
   ]
  },
  {
   "cell_type": "code",
   "execution_count": 94,
   "metadata": {},
   "outputs": [],
   "source": [
    "# Read records\n",
    "fields = np.fromfile(open('grids/gridp1.bin', 'rb'), dtype='float32')\n",
    "nx, ny, nz = 251, 211, 91\n",
    "fields = fields.reshape((ny, nx,nz))"
   ]
  },
  {
   "cell_type": "code",
   "execution_count": 95,
   "metadata": {},
   "outputs": [
    {
     "data": {
      "text/plain": [
       "array([[[6.183412 , 6.1567454, 6.130079 , ..., 4.713727 , 4.715463 ,\n",
       "         4.717325 ],\n",
       "        [6.1682286, 6.141562 , 6.1148953, ..., 4.7011333, 4.7028794,\n",
       "         4.704752 ],\n",
       "        [6.1530905, 6.126424 , 6.099757 , ..., 4.6885777, 4.6903343,\n",
       "         4.692218 ],\n",
       "        ...,\n",
       "        [5.3929057, 5.392443 , 5.3921885, ..., 4.2680283, 4.2701993,\n",
       "         4.2725263],\n",
       "        [5.4145193, 5.4140587, 5.4138045, ..., 4.2787566, 4.280915 ,\n",
       "         4.2832284],\n",
       "        [5.436251 , 5.4357924, 5.435539 , ..., 4.289545 , 4.2916903,\n",
       "         4.2939897]],\n",
       "\n",
       "       [[6.170449 , 6.143782 , 6.1171155, ..., 4.7029757, 4.70472  ,\n",
       "         4.706591 ],\n",
       "        [6.1552114, 6.1285443, 6.1018777, ..., 4.690338 , 4.692093 ,\n",
       "         4.693975 ],\n",
       "        [6.14002  , 6.1133533, 6.0866866, ..., 4.6777396, 4.6795044,\n",
       "         4.681397 ],\n",
       "        ...,\n",
       "        [5.367519 , 5.367055 , 5.3667994, ..., 4.255429 , 4.2576156,\n",
       "         4.259959 ],\n",
       "        [5.3892345, 5.3887725, 5.3885174, ..., 4.2662067, 4.26838  ,\n",
       "         4.27071  ],\n",
       "        [5.4110675, 5.410608 , 5.410354 , ..., 4.2770452, 4.279206 ,\n",
       "         4.2815213]],\n",
       "\n",
       "       [[6.1575465, 6.13088  , 6.104213 , ..., 4.692276 , 4.6940284,\n",
       "         4.6959085],\n",
       "        [6.1422567, 6.11559  , 6.0889235, ..., 4.6795955, 4.6813583,\n",
       "         4.6832495],\n",
       "        [6.127012 , 6.100345 , 6.073678 , ..., 4.666953 , 4.6687264,\n",
       "         4.6706285],\n",
       "        ...,\n",
       "        [5.34222  , 5.3417544, 5.341498 , ..., 4.242874 , 4.2450767,\n",
       "         4.2474375],\n",
       "        [5.3640375, 5.3635745, 5.3633194, ..., 4.253703 , 4.255892 ,\n",
       "         4.2582383],\n",
       "        [5.3859725, 5.3855114, 5.3852577, ..., 4.2645917, 4.2667675,\n",
       "         4.2690997]],\n",
       "\n",
       "       ...,\n",
       "\n",
       "       [[5.550335 , 5.5498724, 5.549611 , ..., 4.346116 , 4.34819  ,\n",
       "         4.350414 ],\n",
       "        [5.521653 , 5.521189 , 5.5209274, ..., 4.331876 , 4.333966 ,\n",
       "         4.336207 ],\n",
       "        [5.4930243, 5.4925585, 5.4922957, ..., 4.317663 , 4.3197694,\n",
       "         4.3220277],\n",
       "        ...,\n",
       "        [4.5055814, 4.505052 , 4.50477  , ..., 3.8287375, 3.8316166,\n",
       "         3.8346972],\n",
       "        [4.5316186, 4.5310907, 4.5308094, ..., 3.8415878, 3.8444395,\n",
       "         3.8474908],\n",
       "        [4.5577507, 4.557225 , 4.5569444, ..., 3.8544884, 3.8573132,\n",
       "         3.8603358]],\n",
       "\n",
       "       [[5.567373 , 5.5669117, 5.5666513, ..., 4.354585 , 4.35665  ,\n",
       "         4.3588634],\n",
       "        [5.5387793, 5.5383162, 5.538055 , ..., 4.3403873, 4.342468 ,\n",
       "         4.3446984],\n",
       "        [5.5102386, 5.509774 , 5.509512 , ..., 4.326217 , 4.328314 ,\n",
       "         4.330562 ],\n",
       "        ...,\n",
       "        [4.5265365, 4.526009 , 4.5257287, ..., 3.8390787, 3.8419363,\n",
       "         3.844994 ],\n",
       "        [4.552454 , 4.551929 , 4.5516486, ..., 3.8518724, 3.8547032,\n",
       "         3.8577323],\n",
       "        [4.578468 , 4.5779443, 4.577665 , ..., 3.864717 , 3.8675213,\n",
       "         3.870522 ]],\n",
       "\n",
       "       [[5.5845566, 5.584097 , 5.583837 , ..., 4.3631263, 4.365182 ,\n",
       "         4.367386 ],\n",
       "        [5.556051 , 5.5555897, 5.555329 , ..., 4.348971 , 4.3510423,\n",
       "         4.353263 ],\n",
       "        [5.5275984, 5.527136 , 5.526874 , ..., 4.3348436, 4.336931 ,\n",
       "         4.3391685],\n",
       "        ...,\n",
       "        [4.547639 , 4.547114 , 4.5468345, ..., 3.8494942, 3.8523304,\n",
       "         3.8553658],\n",
       "        [4.5734367, 4.5729136, 4.5726347, ..., 3.8622317, 3.8650417,\n",
       "         3.8680487],\n",
       "        [4.599332 , 4.598811 , 4.5985327, ..., 3.8750203, 3.877804 ,\n",
       "         3.8807836]]], dtype=float32)"
      ]
     },
     "execution_count": 95,
     "metadata": {},
     "output_type": "execute_result"
    }
   ],
   "source": [
    "fields"
   ]
  },
  {
   "cell_type": "code",
   "execution_count": 96,
   "metadata": {},
   "outputs": [
    {
     "data": {
      "image/png": "[encoded data removed]",
      "text/plain": [
       "<Figure size 432x288 with 1 Axes>"
      ]
     },
     "metadata": {},
     "output_type": "display_data"
    }
   ],
   "source": [
    "import matplotlib.pyplot as plt\n",
    "plt.plot(fields[100][100][:])\n",
    "plt.show()"
   ]
  },
  {
   "cell_type": "code",
   "execution_count": 99,
   "metadata": {},
   "outputs": [
    {
     "ename": "TypeError",
     "evalue": "Dimensions of C (251, 91) are incompatible with X (251) and/or Y (91); see help(pcolor)",
     "output_type": "error",
     "traceback": [
      "\u001b[0;31m---------------------------------------------------------------------------\u001b[0m",
      "\u001b[0;31mTypeError\u001b[0m                                 Traceback (most recent call last)",
      "\u001b[0;32m<ipython-input-99-9976caefb0d3>\u001b[0m in \u001b[0;36m<module>\u001b[0;34m()\u001b[0m\n\u001b[1;32m      5\u001b[0m \u001b[0mZ\u001b[0m \u001b[0;34m=\u001b[0m \u001b[0mfields\u001b[0m\u001b[0;34m[\u001b[0m\u001b[0;36m0\u001b[0m\u001b[0;34m]\u001b[0m \u001b[0;31m# calcul du tableau des valeurs de Z\u001b[0m\u001b[0;34m\u001b[0m\u001b[0m\n\u001b[1;32m      6\u001b[0m \u001b[0;34m\u001b[0m\u001b[0m\n\u001b[0;32m----> 7\u001b[0;31m \u001b[0mplt\u001b[0m\u001b[0;34m.\u001b[0m\u001b[0mpcolor\u001b[0m\u001b[0;34m(\u001b[0m\u001b[0mX\u001b[0m\u001b[0;34m,\u001b[0m \u001b[0mY\u001b[0m\u001b[0;34m,\u001b[0m \u001b[0mZ\u001b[0m\u001b[0;34m,\u001b[0m \u001b[0mcmap\u001b[0m\u001b[0;34m=\u001b[0m\u001b[0mplt\u001b[0m\u001b[0;34m.\u001b[0m\u001b[0mcm\u001b[0m\u001b[0;34m.\u001b[0m\u001b[0mhot\u001b[0m\u001b[0;34m)\u001b[0m\u001b[0;34m\u001b[0m\u001b[0m\n\u001b[0m\u001b[1;32m      8\u001b[0m \u001b[0mplt\u001b[0m\u001b[0;34m.\u001b[0m\u001b[0mcolorbar\u001b[0m\u001b[0;34m(\u001b[0m\u001b[0;34m)\u001b[0m\u001b[0;34m\u001b[0m\u001b[0m\n\u001b[1;32m      9\u001b[0m \u001b[0;34m\u001b[0m\u001b[0m\n",
      "\u001b[0;32m/anaconda3/lib/python3.6/site-packages/matplotlib/pyplot.py\u001b[0m in \u001b[0;36mpcolor\u001b[0;34m(alpha, norm, cmap, vmin, vmax, data, *args, **kwargs)\u001b[0m\n\u001b[1;32m   2701\u001b[0m     __ret = gca().pcolor(\n\u001b[1;32m   2702\u001b[0m         \u001b[0;34m*\u001b[0m\u001b[0margs\u001b[0m\u001b[0;34m,\u001b[0m \u001b[0malpha\u001b[0m\u001b[0;34m=\u001b[0m\u001b[0malpha\u001b[0m\u001b[0;34m,\u001b[0m \u001b[0mnorm\u001b[0m\u001b[0;34m=\u001b[0m\u001b[0mnorm\u001b[0m\u001b[0;34m,\u001b[0m \u001b[0mcmap\u001b[0m\u001b[0;34m=\u001b[0m\u001b[0mcmap\u001b[0m\u001b[0;34m,\u001b[0m \u001b[0mvmin\u001b[0m\u001b[0;34m=\u001b[0m\u001b[0mvmin\u001b[0m\u001b[0;34m,\u001b[0m\u001b[0;34m\u001b[0m\u001b[0m\n\u001b[0;32m-> 2703\u001b[0;31m         vmax=vmax, data=data, **kwargs)\n\u001b[0m\u001b[1;32m   2704\u001b[0m     \u001b[0msci\u001b[0m\u001b[0;34m(\u001b[0m\u001b[0m__ret\u001b[0m\u001b[0;34m)\u001b[0m\u001b[0;34m\u001b[0m\u001b[0m\n\u001b[1;32m   2705\u001b[0m     \u001b[0;32mreturn\u001b[0m \u001b[0m__ret\u001b[0m\u001b[0;34m\u001b[0m\u001b[0m\n",
      "\u001b[0;32m/anaconda3/lib/python3.6/site-packages/matplotlib/__init__.py\u001b[0m in \u001b[0;36minner\u001b[0;34m(ax, data, *args, **kwargs)\u001b[0m\n\u001b[1;32m   1783\u001b[0m                         \u001b[0;34m\"the Matplotlib list!)\"\u001b[0m \u001b[0;34m%\u001b[0m \u001b[0;34m(\u001b[0m\u001b[0mlabel_namer\u001b[0m\u001b[0;34m,\u001b[0m \u001b[0mfunc\u001b[0m\u001b[0;34m.\u001b[0m\u001b[0m__name__\u001b[0m\u001b[0;34m)\u001b[0m\u001b[0;34m,\u001b[0m\u001b[0;34m\u001b[0m\u001b[0m\n\u001b[1;32m   1784\u001b[0m                         RuntimeWarning, stacklevel=2)\n\u001b[0;32m-> 1785\u001b[0;31m             \u001b[0;32mreturn\u001b[0m \u001b[0mfunc\u001b[0m\u001b[0;34m(\u001b[0m\u001b[0max\u001b[0m\u001b[0;34m,\u001b[0m \u001b[0;34m*\u001b[0m\u001b[0margs\u001b[0m\u001b[0;34m,\u001b[0m \u001b[0;34m**\u001b[0m\u001b[0mkwargs\u001b[0m\u001b[0;34m)\u001b[0m\u001b[0;34m\u001b[0m\u001b[0m\n\u001b[0m\u001b[1;32m   1786\u001b[0m \u001b[0;34m\u001b[0m\u001b[0m\n\u001b[1;32m   1787\u001b[0m         inner.__doc__ = _add_data_doc(inner.__doc__,\n",
      "\u001b[0;32m/anaconda3/lib/python3.6/site-packages/matplotlib/axes/_axes.py\u001b[0m in \u001b[0;36mpcolor\u001b[0;34m(self, alpha, norm, cmap, vmin, vmax, *args, **kwargs)\u001b[0m\n\u001b[1;32m   5694\u001b[0m         \u001b[0malways\u001b[0m \u001b[0mdiscards\u001b[0m \u001b[0mthe\u001b[0m \u001b[0mlast\u001b[0m \u001b[0mrow\u001b[0m \u001b[0;32mand\u001b[0m \u001b[0mcolumn\u001b[0m \u001b[0mof\u001b[0m \u001b[0;34m*\u001b[0m\u001b[0mC\u001b[0m\u001b[0;34m*\u001b[0m\u001b[0;34m.\u001b[0m\u001b[0;34m\u001b[0m\u001b[0m\n\u001b[1;32m   5695\u001b[0m         \"\"\"\n\u001b[0;32m-> 5696\u001b[0;31m         \u001b[0mX\u001b[0m\u001b[0;34m,\u001b[0m \u001b[0mY\u001b[0m\u001b[0;34m,\u001b[0m \u001b[0mC\u001b[0m \u001b[0;34m=\u001b[0m \u001b[0mself\u001b[0m\u001b[0;34m.\u001b[0m\u001b[0m_pcolorargs\u001b[0m\u001b[0;34m(\u001b[0m\u001b[0;34m'pcolor'\u001b[0m\u001b[0;34m,\u001b[0m \u001b[0;34m*\u001b[0m\u001b[0margs\u001b[0m\u001b[0;34m,\u001b[0m \u001b[0mallmatch\u001b[0m\u001b[0;34m=\u001b[0m\u001b[0;32mFalse\u001b[0m\u001b[0;34m)\u001b[0m\u001b[0;34m\u001b[0m\u001b[0m\n\u001b[0m\u001b[1;32m   5697\u001b[0m         \u001b[0mNy\u001b[0m\u001b[0;34m,\u001b[0m \u001b[0mNx\u001b[0m \u001b[0;34m=\u001b[0m \u001b[0mX\u001b[0m\u001b[0;34m.\u001b[0m\u001b[0mshape\u001b[0m\u001b[0;34m\u001b[0m\u001b[0m\n\u001b[1;32m   5698\u001b[0m \u001b[0;34m\u001b[0m\u001b[0m\n",
      "\u001b[0;32m/anaconda3/lib/python3.6/site-packages/matplotlib/axes/_axes.py\u001b[0m in \u001b[0;36m_pcolorargs\u001b[0;34m(funcname, allmatch, *args)\u001b[0m\n\u001b[1;32m   5551\u001b[0m                 raise TypeError('Dimensions of C %s are incompatible with'\n\u001b[1;32m   5552\u001b[0m                                 ' X (%d) and/or Y (%d); see help(%s)' % (\n\u001b[0;32m-> 5553\u001b[0;31m                                     C.shape, Nx, Ny, funcname))\n\u001b[0m\u001b[1;32m   5554\u001b[0m             \u001b[0mC\u001b[0m \u001b[0;34m=\u001b[0m \u001b[0mC\u001b[0m\u001b[0;34m[\u001b[0m\u001b[0;34m:\u001b[0m\u001b[0mNy\u001b[0m \u001b[0;34m-\u001b[0m \u001b[0;36m1\u001b[0m\u001b[0;34m,\u001b[0m \u001b[0;34m:\u001b[0m\u001b[0mNx\u001b[0m \u001b[0;34m-\u001b[0m \u001b[0;36m1\u001b[0m\u001b[0;34m]\u001b[0m\u001b[0;34m\u001b[0m\u001b[0m\n\u001b[1;32m   5555\u001b[0m         \u001b[0mC\u001b[0m \u001b[0;34m=\u001b[0m \u001b[0mcbook\u001b[0m\u001b[0;34m.\u001b[0m\u001b[0msafe_masked_invalid\u001b[0m\u001b[0;34m(\u001b[0m\u001b[0mC\u001b[0m\u001b[0;34m)\u001b[0m\u001b[0;34m\u001b[0m\u001b[0m\n",
      "\u001b[0;31mTypeError\u001b[0m: Dimensions of C (251, 91) are incompatible with X (251) and/or Y (91); see help(pcolor)"
     ]
    },
    {
     "data": {
      "image/png": "[encoded data removed]",
      "text/plain": [
       "<Figure size 432x288 with 1 Axes>"
      ]
     },
     "metadata": {},
     "output_type": "display_data"
    }
   ],
   "source": [
    "x = range(nx)\n",
    "y = range(nz)\n",
    "X, Y = np.meshgrid(x, y)\n",
    "\n",
    "Z = fields[0] # calcul du tableau des valeurs de Z\n",
    "\n",
    "plt.pcolor(X, Y, Z, cmap=plt.cm.hot)\n",
    "plt.colorbar()\n",
    "\n",
    "plt.show()"
   ]
  },
  {
   "cell_type": "code",
   "execution_count": null,
   "metadata": {},
   "outputs": [],
   "source": []
  }
 ],
 "metadata": {
  "kernelspec": {
   "display_name": "Python 3",
   "language": "python",
   "name": "python3"
  },
  "language_info": {
   "codemirror_mode": {
    "name": "ipython",
    "version": 3
   },
   "file_extension": ".py",
   "mimetype": "text/x-python",
   "name": "python",
   "nbconvert_exporter": "python",
   "pygments_lexer": "ipython3",
   "version": "3.6.4"
  }
 },
 "nbformat": 4,
 "nbformat_minor": 2
}
